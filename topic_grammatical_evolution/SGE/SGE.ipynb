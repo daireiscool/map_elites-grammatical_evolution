{
 "cells": [
  {
   "cell_type": "code",
   "execution_count": 1,
   "metadata": {},
   "outputs": [
    {
     "name": "stdout",
     "output_type": "stream",
     "text": [
      "Cloning into 'automl-dsge'...\n",
      "remote: Enumerating objects: 450, done.\u001b[K\n",
      "remote: Counting objects: 100% (450/450), done.\u001b[K\n",
      "remote: Compressing objects: 100% (301/301), done.\u001b[K\n",
      "remote: Total 450 (delta 146), reused 445 (delta 141), pack-reused 0\u001b[K\n",
      "Receiving objects: 100% (450/450), 3.59 MiB | 6.39 MiB/s, done.\n",
      "Resolving deltas: 100% (146/146), done.\n",
      "Updating files: 100% (304/304), done.\n"
     ]
    }
   ],
   "source": [
    "# Clone temporally SGE into your 'content' Colab directory\n",
    "!git clone https://github.com/fillassuncao/automl-dsge.git"
   ]
  },
  {
   "cell_type": "code",
   "execution_count": null,
   "metadata": {},
   "outputs": [],
   "source": []
  }
 ],
 "metadata": {
  "kernelspec": {
   "display_name": "Python 3",
   "language": "python",
   "name": "python3"
  },
  "language_info": {
   "codemirror_mode": {
    "name": "ipython",
    "version": 3
   },
   "file_extension": ".py",
   "mimetype": "text/x-python",
   "name": "python",
   "nbconvert_exporter": "python",
   "pygments_lexer": "ipython3",
   "version": "3.8.5"
  }
 },
 "nbformat": 4,
 "nbformat_minor": 4
}
