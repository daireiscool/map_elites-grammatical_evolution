{
 "cells": [
  {
   "cell_type": "code",
   "execution_count": 1,
   "metadata": {},
   "outputs": [
    {
     "name": "stdout",
     "output_type": "stream",
     "text": [
      "Cloning into 'MAP-Elites'...\n",
      "remote: Enumerating objects: 385, done.\u001b[K\n",
      "remote: Counting objects: 100% (6/6), done.\u001b[K\n",
      "remote: Compressing objects: 100% (6/6), done.\u001b[K\n",
      "remote: Total 385 (delta 2), reused 1 (delta 0), pack-reused 379\u001b[K\n",
      "Receiving objects: 100% (385/385), 2.52 MiB | 6.74 MiB/s, done.\n",
      "Resolving deltas: 100% (242/242), done.\n"
     ]
    }
   ],
   "source": [
    "# Clone temporally MAP-ELites into your 'content' Colab directory\n",
    "!git clone https://github.com/StefanoFioravanzo/MAP-Elites.git"
   ]
  },
  {
   "cell_type": "code",
   "execution_count": null,
   "metadata": {},
   "outputs": [],
   "source": []
  }
 ],
 "metadata": {
  "kernelspec": {
   "display_name": "Python 3",
   "language": "python",
   "name": "python3"
  },
  "language_info": {
   "codemirror_mode": {
    "name": "ipython",
    "version": 3
   },
   "file_extension": ".py",
   "mimetype": "text/x-python",
   "name": "python",
   "nbconvert_exporter": "python",
   "pygments_lexer": "ipython3",
   "version": "3.8.5"
  }
 },
 "nbformat": 4,
 "nbformat_minor": 4
}
